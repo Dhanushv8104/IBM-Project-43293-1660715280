{
  "metadata": {
    "colab": {
      "provenance": [],
      "collapsed_sections": [
        "itjSDpXvxasO",
        "pEGOQQrjx9KU",
        "Y3TkUwedyL6N",
        "suEoKJCMzOAV",
        "5LhZ51ZtBeq5",
        "fbDxcfQDCtkc",
        "95GNexqLDAIp",
        "Zl9mMVhrDWk0"
      ]
    },
    "kernelspec": {
      "name": "python",
      "display_name": "Python (Pyodide)",
      "language": "python"
    },
    "language_info": {
      "codemirror_mode": {
        "name": "python",
        "version": 3
      },
      "file_extension": ".py",
      "mimetype": "text/x-python",
      "name": "python",
      "nbconvert_exporter": "python",
      "pygments_lexer": "ipython3",
      "version": "3.8"
    }
  },
  "nbformat_minor": 0,
  "nbformat": 4,
  "cells": [
    {
      "cell_type": "markdown",
      "source": [
        "## ASSIGNMENT 2 - IBM-Project-43293-1660715280\n",
        "## UNIVERSITY ADMIT ELIGIBILITY PREDICTOR\n"
      ],
      "metadata": {
        "id": "TPrwgRzKrsnK"
      }
    },
    {
      "cell_type": "markdown",
      "source": [
        "![image.png](data:image/png;base64,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)"
      ],
      "metadata": {
        "id": "6wFgldgeN5VZ"
      }
    },
    {
      "cell_type": "markdown",
      "source": [
        "## Importing Required Libraries :"
      ],
      "metadata": {
        "id": "5OZSbo5rN5Fg"
      }
    },
    {
      "cell_type": "code",
      "source": [
        "import pandas as pd\n",
        "import matplotlib.pyplot as plt\n",
        "import seaborn as sns\n",
        "import numpy as np\n",
        "\n",
        "import warnings\n",
        "warnings.filterwarnings(\"ignore\")"
      ],
      "metadata": {
        "id": "B1ygPoZqrhhL",
        "trusted": true
      },
      "execution_count": null,
      "outputs": []
    },
    {
      "cell_type": "markdown",
      "source": [
        "## LOADING THE GIVEN DATASET\n"
      ],
      "metadata": {
        "id": "cTtZeXFYrrM0"
      }
    },
    {
      "cell_type": "code",
      "source": [
        "df=pd.read_csv(\"Churn_Modelling.csv\")\n",
        "df.head()"
      ],
      "metadata": {
        "id": "UKyX4pRBsAle",
        "trusted": true
      },
      "execution_count": null,
      "outputs": []
    },
    {
      "cell_type": "code",
      "source": [
        "df.info()"
      ],
      "metadata": {
        "id": "Y8TDJgQYsI0N",
        "trusted": true
      },
      "execution_count": null,
      "outputs": []
    },
    {
      "cell_type": "code",
      "source": [
        "df.shape \n",
        "#checking the shape of the dataset"
      ],
      "metadata": {
        "id": "JCynQHGnsOd-",
        "trusted": true
      },
      "execution_count": null,
      "outputs": []
    },
    {
      "cell_type": "markdown",
      "source": [
        "## 1.UNIVARIATE ANALYSIS"
      ],
      "metadata": {
        "id": "CVjFFuRXtdrE"
      }
    },
    {
      "cell_type": "code",
      "source": [
        "#Histogram \n",
        "sns.histplot(df[\"Age\"],color='purple')"
      ],
      "metadata": {
        "id": "uWiDfBg0sTA1",
        "trusted": true
      },
      "execution_count": null,
      "outputs": []
    },
    {
      "cell_type": "code",
      "source": [
        "#Histogram on Categorical variables\n",
        "sns.histplot(x='Age',data=df, hue=df['Tenure'])"
      ],
      "metadata": {
        "id": "iTeV-SzSuLtQ",
        "trusted": true
      },
      "execution_count": null,
      "outputs": []
    },
    {
      "cell_type": "code",
      "source": [
        "#Distplot\n",
        "sns.displot(df[\"Age\"],color='yellow') "
      ],
      "metadata": {
        "id": "prw2qMI7uwHu",
        "trusted": true
      },
      "execution_count": null,
      "outputs": []
    },
    {
      "cell_type": "code",
      "source": [
        "#Boxplot\n",
        "sns.boxplot(df[\"Age\"],color='red') "
      ],
      "metadata": {
        "id": "O26Bl5MrvRw_",
        "trusted": true
      },
      "execution_count": null,
      "outputs": []
    },
    {
      "cell_type": "markdown",
      "source": [
        "## 2.BIVARIATE ANALYSIS"
      ],
      "metadata": {
        "id": "QbUVwbQ3vtil"
      }
    },
    {
      "cell_type": "code",
      "source": [
        "#Barplot\n",
        "sns.barplot(df[\"Tenure\"],df[\"Age\"])"
      ],
      "metadata": {
        "id": "kwZX2dfDvllv",
        "trusted": true
      },
      "execution_count": null,
      "outputs": []
    },
    {
      "cell_type": "code",
      "source": [
        "#Linearplot\n",
        "sns.lineplot(df[\"Age\"],df[\"Tenure\"], color='blue')"
      ],
      "metadata": {
        "id": "aJGUmLWzwcmg",
        "trusted": true
      },
      "execution_count": null,
      "outputs": []
    },
    {
      "cell_type": "code",
      "source": [
        "#Scatterplot\n",
        "sns.scatterplot(x=df.Age,y=df.RowNumber,color='green')"
      ],
      "metadata": {
        "id": "kMCE8xdPw5am",
        "trusted": true
      },
      "execution_count": null,
      "outputs": []
    },
    {
      "cell_type": "code",
      "source": [
        "#Regplot\n",
        "sns.regplot(df['Age'],df['Tenure'],color='pink') "
      ],
      "metadata": {
        "id": "3hzJBx74xGA3",
        "trusted": true
      },
      "execution_count": null,
      "outputs": []
    },
    {
      "cell_type": "markdown",
      "source": [
        "## 3.MULTIVARIATE ANALYSIS"
      ],
      "metadata": {
        "id": "itjSDpXvxasO"
      }
    },
    {
      "cell_type": "code",
      "source": [
        "#Pairplot\n",
        "sns.pairplot(data=df[[\"RowNumber\",\"Age\",\"Tenure\",\"Balance\",\"NumOfProducts\"]])"
      ],
      "metadata": {
        "id": "kerDUqxBxUj_",
        "trusted": true
      },
      "execution_count": null,
      "outputs": []
    },
    {
      "cell_type": "markdown",
      "source": [
        "## 4.PERFORMING DESCRIPTIVE STATISTICS"
      ],
      "metadata": {
        "id": "pEGOQQrjx9KU"
      }
    },
    {
      "cell_type": "code",
      "source": [
        "df.describe()"
      ],
      "metadata": {
        "id": "8cqUEXsfxmP_",
        "trusted": true
      },
      "execution_count": null,
      "outputs": []
    },
    {
      "cell_type": "markdown",
      "source": [
        "## 5.HANDLING MISSING VALUES\n"
      ],
      "metadata": {
        "id": "Y3TkUwedyL6N"
      }
    },
    {
      "cell_type": "code",
      "source": [
        "df.isnull().sum()"
      ],
      "metadata": {
        "id": "axDy-Ou2yIBH",
        "trusted": true
      },
      "execution_count": null,
      "outputs": []
    },
    {
      "cell_type": "code",
      "source": [
        "#Since there are no missing values to be found we move on to find the outliers of the dataset"
      ],
      "metadata": {
        "id": "DOPjUSz9yVNP",
        "trusted": true
      },
      "execution_count": null,
      "outputs": []
    },
    {
      "cell_type": "markdown",
      "source": [
        "## 6.FIND THE OUTLIERS AND REPLACE THE OUTLIERS"
      ],
      "metadata": {
        "id": "suEoKJCMzOAV"
      }
    },
    {
      "cell_type": "code",
      "source": [
        "outliers=df.quantile(q=(0.25,0.75))"
      ],
      "metadata": {
        "id": "XkeYIZB7zK0Q",
        "trusted": true
      },
      "execution_count": null,
      "outputs": []
    },
    {
      "cell_type": "code",
      "source": [
        "outliers"
      ],
      "metadata": {
        "id": "CSsQ2_8IzT7X",
        "trusted": true
      },
      "execution_count": null,
      "outputs": []
    },
    {
      "cell_type": "code",
      "source": [
        "# Finding inter-quartile range\n",
        "q1 = df.CreditScore.quantile(0.25)\n",
        "q3 = df.CreditScore.quantile(0.75)\n",
        "IQR = q3 - q1\n",
        "lower_limit = q1 - 1.5 * IQR"
      ],
      "metadata": {
        "id": "JRGFqTzKzVyw",
        "trusted": true
      },
      "execution_count": null,
      "outputs": []
    },
    {
      "cell_type": "code",
      "source": [
        "# Median values\n",
        "df.median(numeric_only=True)"
      ],
      "metadata": {
        "id": "q-39do1rzjfQ",
        "trusted": true
      },
      "execution_count": null,
      "outputs": []
    },
    {
      "cell_type": "code",
      "source": [
        "#Replacing the outliers\n",
        "df['CreditScore'] = np.where(df['CreditScore'] < lower_limit, 7, df['CreditScore'])\n",
        "sns.boxplot(x=df.CreditScore)"
      ],
      "metadata": {
        "id": "l8VRkxCjAgDU",
        "trusted": true
      },
      "execution_count": null,
      "outputs": []
    },
    {
      "cell_type": "markdown",
      "source": [
        "## 7.CHECKING FOR CATEGORICAL COLUMNS AND PERFORMING ENCODING."
      ],
      "metadata": {
        "id": "5LhZ51ZtBeq5"
      }
    },
    {
      "cell_type": "code",
      "source": [
        "df.head()\n",
        "#Here we can see the presence of categorical columns such as Geography and Gender"
      ],
      "metadata": {
        "id": "VP0JBB02ArmF",
        "trusted": true
      },
      "execution_count": null,
      "outputs": []
    },
    {
      "cell_type": "code",
      "source": [
        "#Transforming Categorical columns into numerical values through labelencoding\n",
        "from sklearn.preprocessing import LabelEncoder\n",
        "\n",
        "le = LabelEncoder()\n",
        "df.Gender = le.fit_transform(df.Gender)\n",
        "df.Geography = le.fit_transform(df.Geography)\n",
        "\n",
        "df.head()"
      ],
      "metadata": {
        "id": "2Yoa-Jq6Bwv9",
        "scrolled": true,
        "trusted": true
      },
      "execution_count": null,
      "outputs": []
    },
    {
      "cell_type": "markdown",
      "source": [
        "## 8.SPLITTING INTO INDEPENDENT(X) AND DEPENDENT(Y) VARIABLE"
      ],
      "metadata": {
        "id": "fbDxcfQDCtkc"
      }
    },
    {
      "cell_type": "code",
      "source": [
        "y = df[\"Surname\"]\n",
        "y.head()"
      ],
      "metadata": {
        "id": "QRGIFnrJCHp8",
        "trusted": true
      },
      "execution_count": null,
      "outputs": []
    },
    {
      "cell_type": "code",
      "source": [
        "x=df.drop(columns=[\"Surname\"],axis=1)\n",
        "x.head()"
      ],
      "metadata": {
        "id": "cY5UgD4FC2P0",
        "trusted": true
      },
      "execution_count": null,
      "outputs": []
    },
    {
      "cell_type": "markdown",
      "source": [
        "## 9.SCALING THE INDEPENDENT VARIABLES"
      ],
      "metadata": {
        "id": "95GNexqLDAIp"
      }
    },
    {
      "cell_type": "code",
      "source": [
        "from sklearn.preprocessing import scale\n",
        "\n",
        "X_Scaled = pd.DataFrame(scale(x), columns=x.columns)\n",
        "X_Scaled.head()"
      ],
      "metadata": {
        "id": "eJiB5JqKC5XN",
        "trusted": true
      },
      "execution_count": null,
      "outputs": []
    },
    {
      "cell_type": "markdown",
      "source": [
        "## 10.TRAINING AND TESTING SPLIT"
      ],
      "metadata": {
        "id": "Zl9mMVhrDWk0"
      }
    },
    {
      "cell_type": "code",
      "source": [
        "from sklearn.model_selection import train_test_split\n",
        "X_Train, X_Test, Y_Train, Y_Test = train_test_split(X_Scaled, y, test_size=0.2, random_state=0)"
      ],
      "metadata": {
        "id": "0pnN2CRxDE3F",
        "trusted": true
      },
      "execution_count": null,
      "outputs": []
    },
    {
      "cell_type": "code",
      "source": [
        "X_Train.shape"
      ],
      "metadata": {
        "id": "xmFBuCBxDhgW",
        "trusted": true
      },
      "execution_count": null,
      "outputs": []
    },
    {
      "cell_type": "code",
      "source": [
        "X_Test.shape"
      ],
      "metadata": {
        "id": "D32EgYM0Dtn-",
        "trusted": true
      },
      "execution_count": null,
      "outputs": []
    },
    {
      "cell_type": "code",
      "source": [
        "Y_Train.shape"
      ],
      "metadata": {
        "id": "ljnk77OSDwel",
        "trusted": true
      },
      "execution_count": null,
      "outputs": []
    },
    {
      "cell_type": "code",
      "source": [
        "Y_Test.shape"
      ],
      "metadata": {
        "id": "HqLP_vedD3n-",
        "trusted": true
      },
      "execution_count": null,
      "outputs": []
    },
    {
      "cell_type": "code",
      "source": [
        "X_Train.head()"
      ],
      "metadata": {
        "id": "-H1NolPkD5uv",
        "trusted": true
      },
      "execution_count": null,
      "outputs": []
    },
    {
      "cell_type": "code",
      "source": [
        "X_Test.head()"
      ],
      "metadata": {
        "id": "6qieHtFwEB8N",
        "trusted": true
      },
      "execution_count": null,
      "outputs": []
    },
    {
      "cell_type": "code",
      "source": [
        "Y_Train.head()"
      ],
      "metadata": {
        "id": "W8QadrTGEGS2",
        "trusted": true
      },
      "execution_count": null,
      "outputs": []
    },
    {
      "cell_type": "code",
      "source": [
        "Y_Test.head()"
      ],
      "metadata": {
        "id": "5y1ueLP-ENIe",
        "trusted": true
      },
      "execution_count": null,
      "outputs": []
    },
    {
      "cell_type": "code",
      "source": [],
      "metadata": {
        "id": "NqdsJImmEQ8u"
      },
      "execution_count": null,
      "outputs": []
    }
  ]
}