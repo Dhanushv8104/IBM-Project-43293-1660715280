{
  "nbformat": 4,
  "nbformat_minor": 0,
  "metadata": {
    "colab": {
      "provenance": [],
      "collapsed_sections": []
    },
    "kernelspec": {
      "name": "python3",
      "display_name": "Python 3"
    },
    "language_info": {
      "name": "python"
    }
  },
  "cells": [
    {
      "cell_type": "markdown",
      "source": [
        "# IBM-Project-43293-1660715280\n",
        "# UNIVERSITY ADMIT ELIGIBILITY PREDICTOR"
      ],
      "metadata": {
        "id": "McSxJAwcOdZ1"
      }
    },
    {
      "cell_type": "markdown",
      "source": [
        "![image.png](data:image/png;base64,iVBORw0KGgoAAAANSUhEUgAAAwIAAACDCAYAAAA+uKxYAAAgAElEQVR4Xu19+8tV1fb+7A8w8/LTIQ7i5YfghFKWIBoYaKYH6ZAebxGBkrcQOpp3CfFuaSDeUZDINFMKSY8XSFARvB2UOviDF0L80bLyD+jbs77n2Z/xTudca6797v2++93rWXDouN+15przmXONMZ4xxhzzmT/+vJwuISAEhIAQqBwCzzzzjJMKqNy0a8BCQAgIgRoCz4gIaDUIASEgBKqJgIhANeddoxYCQkAIEIEeRwROnTrlJk6c6FasWOHWr1+vmRQCQkAICIE6ERARqBO4bn7s1q1bbu/eve7IkSPul19+6ebe6PVCQAj0ZAQ6RQReeeUVd+3atS4dv4hA5+EeP368O3PmTLShPn36uFdffdW9/PLL7s0333SjRo3q/EvVghAQAi2HQL1E4Oeff3YHDhxw+/btc3fv3s0d15YtW7L77t275yBbpk2b5tauXev69euXjAcM340bN7qzZ8+6x48fu0GDBrn333/fTZ48OetHlZxCwOLo0aNuw4YNGX6tktp1//599+mnn2bkxM7RkiVLovMMff7xxx+769evZ3O6bt26bH2ELrS7devW7F5cU6dOdcuXL3dDhw596vZ6+pK8GHWjEGgzBOomAvgop0+f7g4fPhz9cNsMq5Yfzvz5892uXbuS+glBOW7cuEw5z5s3r4Ni9hUNBO7OnTtLKW6/E3jfsWPHXJ5SSOq4bhICQqBhCNRDBGDYf//99zVnQp4hCqcDSMNnn32WORQuXbrkJk2alBl9p0+fTpIpkEdjxozJ5BWM34EDBzrKk6VLl3a5MQzd9/zzz3e7gwSOOBjFrUAEMB/Dhw/P5gJOJJBD6BZc0C8hvUQbYs+ePW7OnDm1tYH7fWK3cuXKbO7xDhBIOrJALM+fP9+BDNTTl4Z9UGpICPRABOomAoMHD84+dAj0Io9QD8Slx3UZynLYsGGllAIjA5s3bw4a6FTA8O5AAHcm+gMvz0svvSQi0ONWljrczgjUQwSIR9++fTPPb8wQBWGAoX7z5s0OhhrIwOjRo6MGoo83dA2ukJ6hMdlVxjBIzYgRI9zBgwe7nQhQfnfV2PO+Azih4JmHQc+Lc4N/+w5D6iufJHDNXLx4sYYvDHs4o7766quMBOLCPGD8jCTYtVG2L+38fWtsQiAFgbqIgB+isx9tykt1T2MRoKAs6x0qIgLoJQU2/n+MMBSNBrmsc+fOrfv5ovb1dyEgBOpDoDNEoMgQpbMoZKjyb3Am0biLjQB9fOONN7IIQuhCP2J/qw+V8FMwPlevXu12797tWkHnFeHfyLEXtRWLRuN34OXrDjiGYNj7OEKXwblo5xvkAClg/jrhveibXWNl+1I0Nv1dCLQ7AnURAQig9957z124cCH7yPOENAEEeVi1alUtigCGDyWA31PvgSA+d+5clic4ZcqUp7zLFNTMUfQnj/1kWBl5q/Ds9OrVK8s/hWCCEDp+/HgHD5a/MQv/hqcL4Ul7P/NY0Q5ClgiHhvIdbV5kKGfWH+esWbMyBUSsbLto65133sk8c/ZKUVQpRABtUpijr3Zjmo93aCyh/Qj+einCo90/Qo1PCHQXAs0kAmjbN9I4TsqFlNRSRh5i98JQDKUcWnmM9/o55ZBfSFf85JNPanrAynWbr25TKe1c+Qau3Q/BfQy2b43UJZYIwNmCcUCnQr6iX6Hc+SJZ6+vGhw8fZvIfc3DlypWkVC6LD/f0WZyAe//+/aNrg+smhSSWSY8K9aW7vju9Vwi0EgKliQDCuiABCMVZRp730TIv9MSJE7U8UbQBrxA9OSn3QNjt378/Cwf6ApihQoALQ7x379417w0M1Dt37mRCjJvcNm3alBnPyE9EmyAWP/30U0ZsrMHr58tDGYEAzZgxw12+fDkjBMxTBJl499133e+//54JT7Tv44JcR2x4Y5iToVCbemPHiepIN27cyDbu4kL/0K4fbs9TurEFl0oEKEDRjiUYEMLoC8YDbw3zOGPh3lBEIQWPVvpg1Bch0E4IdAURePTo0VMGZKrsAdaUkTTmuU8gbx7oIKHO4b/xDDebggRQD0Cu08FEPYB7ffLBfoccLZCH+B82QuNasGBBJudZ4a7RusRiiD4PGDDAff3119n4QrnzRbLW142Q12gX8h16zNc5Kd8BdcfJkyfdhAkTskeYGuY7ltheHsb+O4E3rpS01VBfUsage4RAuyNQmggwGkBPN0N8sQ1BFOTYXGbDtxAG8LjwN25Ay7sHbcXSTPi7L7gZgvYFN4WN3296GPz72Y4vDGMKjcqLG6GsAPTJAd9p+24Jgt1UR2PbN6qbSQQs4eN7KcxDnh5/3wjH4veZbaTg0e4fosYnBLoDgWYSAcpMKwN9Yy813ZByj8/jOURKQ5WHYNAOGTLkqYhsyFFB2QQv+qFDh2rtUZ/4xmrMSGUkwOaqW8+3lXGN0CXAgX2xRjZ+p05GBIRR5DKylu3yeYwDkYFQhKFozcIhBiJhceHegVgmQSpJpF5KiSqhn6G+FPVffxcCVUCgFBFgeNR+1BQwACsWFQhtAOKHyWoCKfdYY9pXIDEBTaHoK6M8gQ4vf4w4+PmusX6HjF8IImDo57PyXiu4i4znriQCwJ1Eg+9lZQZEQewGsRAhiY2lDB5V+Bg1RiHQ1Qg0kwjQA2vTJCE3rl69WouYphpxlP0ffvhhzaOPdpctW/YUIYhtIA55omPyG+8LOZFiegP3opypn6LE+63+ieX2l9Ellgj4OimUO19G1pbxyOetVxIyRmV4ryVfob0dqUQg5DyM9SfWl67+3vQ+IdCKCJQiAhAmCD/GhF3Mu0OjEWkk8MAjrcavTZ9yTx4RiG0+ignX7iACoXx5uyj8DVIgJDEvelcSAatYQt49u6eBYXernGJEoAwerfjxqE9CoKcj0Ewi4Bvv3EP097//PTsUMs95lIer3W+G+5BWaaOmNpUo1g7lUx4RoE6xsjamN+gAib0v1EZnnEp5RAB/8yPbZWRto4hAqHoP+sZoS1FEIKRriC/SrGbPnp1cgjbWl57+/ar/QqARCCQTAWsMxl5sc/H9e3jAB3LccfmhWPyWck8oJQXP0gvknzgMYY7QJPcIsF/dQQSKql9YzFopIhDbI2BzSoEzIgMoYYorhQiUwaMRi11tCAEh0BGBZhOBEN4sPpBSZCJvvqzBb1M8y1TTySMCIRkc0hsxnRTre7MjApYkMLJdRtY2gghAH2MvXej8AOIVK0kdS+clntA7M2fOjG6I9nHP64vkgRAQAn9mfPxpsP2RAgTyK+HRD33YDLtx861NFQkRAigCVNzxPTm8F4Qgdk+e0MUz+OgZivQPLLF96Q4iwM21KecutBIRoOK2uf/+5myWdiuTGlQGj5Q1qnuEgBAoh0BXEwHrUEqpbIbR5B2UaGvVU5VxL0BK1ZkUImDTl0J6g3sB8vbJhXRPMyMC7Cc3apeRtZ0lAqyMFDvcMrVqUGiTOdcDbIyUPQtFfSn3tehuIdCeCCQRARr6SPuI1XymQA0dMIZQoE8OaFxyo1PKPZiCPCKAj/7tt9/OZoqHncWOLO8OIsBQs7+5i0vLlsFrFSJgzxGwoVoqW38sZYhAGTza8/PTqIRA9yLQlUTAHgKVukkY6MBDnOc88WUOU0/86HCenA2REsonSyhiegPlNXGFdCTLlFIHdkVEAP3BCb/MwS8jaztDBFgZyT8Z2F/l7I9ffIP6JhYtgt755z//mUwCjh49+tQpxd37xentQqD1EEgiAjBKUUYsxvAxLMvy/Q1geB7lPC0ZoEFPQzLlHrwnVguYewz8FKAY5N1BBOxmtS+++KJWTg19hIB78cUXa+cOlCUC/imfwKPooJ6iTVn2ZGHf2xWqWOF7evBvVPXwKz3hd1y3b9/OThhFSlkRHq336ahHQqDnI9BVRMCSgFTPOdFFH2P54qEDqGyE2icc0B/fffddTZfF5CzbgMFq9Z6/F41ylu0gyo1y1PRWM40FbVAeN5sIMEpiyU0Z3VMvEcgjAXg/Kg+x2iD745O1vAhNjAQA423btnUw+Mv0ped/xRqBEOgcAoVEgIY3Ktrs3LkzeqCI3ewLw85WCsDHjXrNrDCDDxc1luE94SElKfdgqBTE/h4DChAIFpAOXiNHjsz+r92cjPfjmHh4emLVhKyysl5x6wHP83DZEm4WN0ZC0CdET+jtggKxh6uFSsDhGatw7AY5W52C4w8dZkZc7AE5vrL0612HPGs07tHvNWvWZGcn8IA5vAP48ch5mxP62WefuS+//LKmXFPx6Nwy19NCQAiEEKiXCNgUn1iEE+/DfTgEEodd4TDC2CGLebNDj79/IBgPx4IcP3/+fAcvsU0Zgj6CdxzyGumr9mAsylOrs3hSO9r1HUu8H/INm55//PHHrHiG1QUYC+QinCCokGQrqzVSl1hdyAPEeF5CCOcUWWt1YxnCxvcCZ/9Cm9D1fqoPo8okLLF9ftZegL70L2CMvjIKUU9fJB2EQJURyCUCoeoLoRBqrEoDDUwYjd98800mFHkCLj7cxYsX17wkKfeEKjMwzzJ2wi4nlycAP3nyJPNC+xfGFfodY0D1HnuBhOCU5ND96E9eP9GOPQWSJfBsJabQ87H+cT6YFgVli5J6oZM2OYaiChK4D2PEIWao1R2LLNgTh6nsYucc8PfQqZdFeFT5A9XYhUAzEaiHCMTkh5/zzvtgFOPAxljd/6LxQc7gkC4Qim+//TY7pAsXZPq4ceOyv4XOE4ADwpYbhc7x77URAXsYF4zsULv08GOPm98ePdM89BH92759ey3yG9KTndElTDniIZvABGTpgw8+eKoqHzHOk7W2FLidk6JthLaYRGwuY6TC9odOJR48xrZYASlvnTB9qzN9KVqH+rsQaFcECiMCPWXgEIqrV6/OSpPiwqm/9tq3b1+mNPLSm3rKWNVPISAEhEAjEKiHCDTiva3SRl4qSqv0Uf0QAkJACDQTgbYhAvAa2NxMHzR4O3bs2NEh/aaZwKptISAEhECrIyAisCWL+KZWMGr1+VT/hIAQEAJlEWgLIsB8db8CgQUD4eXQQWZlAdP9QkAICIF2QUBEQESgXdayxiEEhEB9CLQFEbB5gciRfOmll9zf/va3bAPrgwcPHHI/Fy1aVKtYUB9UekoICAEh0F4IVJkI+Pn+Shttr7Wt0QgBIZCGQFsQAQyVB4fgFGFsHMLFzWR2U3IaLLpLCAgBIdD+CFSVCNS7Mbb9V4RGKASEQNUQaBsiULWJ03iFgBAQAp1FoKpEoLO46XkhIASEQLsgICLQLjOpcQgBISAESiIgIlASMN0uBISAEGgzBEQE2mxCNRwhIASEQCoCIgKpSOk+ISAEhEB7IiAi0J7zqlEJASEgBAoREBEohEg3CAEhIATaGgERgbaeXg1OCAgBIRBHQERAq0MICAEhUG0ERASqPf8avRAQAhVGQESgwpOvoQsBISAE/kRAREDLQAgIASFQUQREBCo68Rq2EBACQuB/CIgIaCkIASEgBCqKgIhARSdewxYCQkAIiAhoDQgBISAEqo2AiEC151+jFwJCQAgoIqA1IASEgBCoKAIiAhWdeA1bCAgBIcCIwJ///UNoCAEhIASEgBAQAkJACAgBIVAtBBQRqNZ8a7RCQAgIgRoCighoMQgBISAEqo2AiEC151+jFwJCoMIIiAhUePI1dCEgBITAnwj0SCJw//59d+zYMbdv3z538OBBN2rUKE2mEBACQkAIlERARKAkYLpdCAgBIdBmCCQTgVOnTrnt27e7M2fOZBAMHz7cLVq0yI0dO9Zt27bNrV+/vkug+fnnn92BAwcyEnDv3j138eLFliIC48ePr2EEQN544w13+vTpIDZbtmxxS5cu7fC3vPu7BGC9RAgIgcogUA8R6KwuCMk9Czh0y7hx49ysWbPcwIEDsz8VPTNo0KDsmRkzZpTWB3v37nW9e/d206ZNi877pUuX3OjRo4N//+OPp7fZxfQA8E69rC7w2ytqA30K9TlPX4b6Frs/D4/Nmze7JUuWBN+PfrPNvDn13xvTlatWrXKXL1+u2QNoH3YB100eTkeOHHHTp0/vcEuRPXHr1i2H9bJr167cKSiar9AaL5pT/V0INAuBJCLADwYfOIRzv379HD6IjRs3uq+++ipq7M6fP7/wg6l3YBQMRR9uve2HnksdD7CBgU/SNG/evCgOIDYLFixw169fd2fPnk0SYI0ck9oSAkKgugiUJQL16oIQwitXrnQbNmzI/vTo0aNMryDau2LFikyv9OnTx50/f94NHTo0u4ey0tc5eAbOIbZ1+PDhXKPe78vgwYOzn+7evZu7EPAe6ADKdRq8oYfQ19WrV7vdu3c7yP+1a9dm48MF/TBs2LDs/8f0F4zNb775poMTCW2OGDEiM3Rj74aBPmnSJPfLL7/UMEP0fPny5e7x48dPYer3nQZ+3tjsM5YQYN58hyD63L9//+wRtDl58uSndJxdB3lzx/mHnrTrAm2DnE6cODF7T56+tX23xnrqeDH/mNMUsoH1AnLqz5e1D/w1Xl1JpJF3JwKFRACLGd6W2MeFDwP3+F5vCruQt6QRA+5qIlDPeF555ZXMwMeVJ+CgXJHiFIscNAIvtSEEhIAQ8BEoQwTq1QUx1K0R6esJGmnQPdZAp9wPRU5ppMG4unPnTs3wzpt16xVOIRDEoEim4+9oe+vWre7atWtPdYG6Ic+RBTIwZ86cDs/SaM4zXEPPWUMZ3mjoGhITv3MgRmVSbhlJCI0FGGBefMM9RiaK7AVGo3xdibX03nvvZUY3riJD3b+/6L1o0859WbIRmi/gjH4qC0ByubsRKCQCRR4CsnR88LzwwUydOjUzglM+sHpA6EoiUO94oMyAD8nAzZs3a94tXxCuW7dORKCehaBnhIAQqBuBMkSgHl2Q17E8ImANdGtg5hEB215qpBjGGIgDZHSqQUbCUXQ/5D+M01DKEYlOaj+JI8ef6sHmczR8ESlAZAD62epsO0/oG1JuUvfexYgAiVAe6cB789aBv35wb0hX8vfnnnsuiyYVGeqcG6YGpdgpmHeQOqyVVLLJeQ7Nl013Snl/3R+5HhQCBQgUEgF6wvNCWFjQyAnEBcb+zjvvZMLGXvgQbD68/TBsbmLog4Eh/umnn2aCC+1CAPODDwlS9OHjjz+ufbAQxDY062827tWrVy3NCR6o48eP1wz22HhSBDgF6pdffpmFE6lw/PzFmHCz6VfAEn17//33a1jjNxCNc+fOZZ6nKVOmZH/DfGzatCnDyoZr8Tv3VgDDQ4cOPeUVYkibWMN7tGbNGjdhwgR9TEJACLQZAmWIQFldUARVngFoPdipRCD2TKwfNI6RagLZiitFrlvPcOx+poXE0o26gwjAgIZ+HTNmzFO6odFEALrm66+/zo08WJLC/RdFBnEREQCBYVtMN/Pn384NbY+i90IvDhkyJLMpQuk+sTWWRwRsSlTR+4u+Jf1dCHQGgUIigMb9XDruE8h7cegDszmevsEPYx1M3v8dHy031iAHFJu6mHsZEtz4uCDY0RYMbrJutAE2z83GNJT37Nnj9u/fnxnRP/30U81gZ44lx5gqMEIC9YUXXsgwhBAJhWVDws2Oe+fOnVmzM2fOzPJTbQgbYWD0H23D6Eeo8a233nLPPvtsjQxhjA8ePMiwGzlypNuxY0fQa8J3Yu8HQtJQ/LNnz87aPnnypMhAZ740PSsEWhCBMkSgXl2QZ4jHDEDqAzhPrCzOiwjE0onyjDR67OnlL/Iksy3eH/Os4+/Y2+Cn9vD5IiJgnWu2/0URgdhzVscUpUN1JiIAXQf9jMs63/KWfiMjAog+5Bnf6AfmZsCAAZnTLFWvA1fYB9gkTPz8tLXQGGN9IbGAsy51zbWg+FCX2gSBJCKARUsjFOOGcMYHkVdlIfaBxQRZLOyMDwlelStXrnTwXodyLNmGnx/Ie60BzQ/U/whjuZupAiNEBBBitRu9fOURIgKh1Cd6vPw+UzCF2oWihcDyNyJjPL6SBSYgT7YiAt+ZIvTa5JvQMIRAZRAoSwTq0QUpRIAyG+2jCl1s469PBHA/dAMr2vkR3bx3gwTQY2838Bbll6NNGxXw76eRl7dPIY8IYIy4GGVPJQIxbzme9/8GB9LcuXOzpv2U1XqJAJxFiMRjDmJpR6H5aDQRYHuh9B06uzg3KXrdRgMYze/bt28WVSnaV+ITAbz/6tWrWeoV9weEIvOVEUAaaEsgkEQE2FNu/GHaDz54hBtDhKARRCAvJzVkKMc2LvNeayjHBHFs70GKwPBn1BeoUDahsGxIgNMAt0KaePi5qXk4od+hXFZ/PFRsoVA3743tcWiJlaxOCAEhUBqBskSgHl2QQgQgo1iNB/dDVn/wwQdP5anHSk5SF6GcdWwTrO0HdMVrr73WQXfFnEOx/sfuRx9/++233JLaReUlY3sAisqoxvYthHSM3VyNqC+N3HqJAAxvViYqchRaTBtNBNA2N+L6ONpoAO5L0euwey5cuNDBQcZ5KHKQxeYZ87Rw4UJF2UtLLD3QDARKEQF0wE+twW+h0FYjiABz6EJpKSGDvUi4huoyx+oV+7+nCIwiIoC/2zxWehPyPDl4xu5pCFUZaAQRsMI4ttBS8mebsUjVphAQAs1BoF4iUEYXpBCB1BxpPyJg5Vaqo8L3CrN/eZ7k0Bjsu21Eg7nkebXsY44o6le8r2xEIFZRB23FdAwj4DZltV4iAP3A/XB4Z5G33Mcd/y5aB0V7BFhNiFFyG/UORWpS9HqoipJN7cnTi35EwBIIP8uhOV+4WhUCxQiUJgJs0ub7hz76RhCBovApNh/bjzDm/Q7B0B0RAfbD5mhCeT158iRYCcFukl62bJn761//mh2A0oyIQFdWYSpelrpDCAiBrkCgM0QgVRc0kwigbTqMUiu50BOeh29qVR4/KhDyHpfRP5ZglSUCxCJ0uGfMgIYe5/41Rsw7QwSQBmvxxf602D6JeohAXvlQv5oQowIkJDbPn+8uIgKhQ8f8+cyrHhXaI0DyVVR1qiu+f71DCACBQiIAAfLw4cPofoBYKbVGEoGQMAkZrvjAEJosOhgGA+9OIoD327DsF198keW42trITCOyFY+amRrESEWqF0efjxAQAj0fgTJEoF5d0GwigPZTjSsecBXbB0C94u+fShkD2kRFmZQa/EWbhWPvK9osnNfPWIlqm7IKAvT99993unyoNaBTNsPSXohV+uG4YmlXIaLDfRBI34H3PRSpKSICWFeLFi0K2j8p0agQEWBECrZKKuHs+ZJGI2hlBJKIAMJ9sSO1Y8ZpI4gAPT2hygwhIsBKE7EKN7aiQncTAUtGoHReffXVDkSAis0KxmYSAW6WY3Ulf9Hi3bhSa0u38qJX34SAEPj/CJQlAvXoghQjuiglxBqCiAT73lRrXIVOuLXPs/pLqF825SPVKWIPhkKbKQdDphIB6EDr4U8lAjCCsV+C6UlF6afWqIU+OnHiRLKsp673U2TKkAFuvi1KP41VYwqNz84l1otfCIPrH/8NrT+0aTeUh9ZL0b6SWNUgmyKsinySxt2NQBIRQOWZWP6lPXLehjL5YfMDg6DGh0iWboW1rURhGXLeUewkCVZY2xxPeNlt7Xvc/+KLL9aYfVkiEBtP3gQWhVhtWNZXbCEPCYUH78Xz2BjXiD0ClpiAeKFkKTfd8Uj0FAXX3Qta7xcCQiAdgbJEoB5d0BVEAO8I7b+y7w5Vfwn1jbqlaCMony0qxxl6R8rJwmj3hx9+6EAEUk4WDsnrIiKAPsYOcStaTTEigOdstCHvROM8px/fz7bsxmb+LTY+u7nat2EYHYoRAejv2IFwfK9dc6EoU4wI4Hmb0pZ38nIR/vq7EOgsAslEAC+CkT558uTMoOdBVmDoEJj+6YH8AJDWg/r1uOCx94/phvfhxo0b2Q76iRMnZiUtkQ/Pswrsx4LfUQf/8uXLtQOzIFxQ6555iDY/Ef2CtwapQriPJc1sKU8/7SjG8GPjiU0ASUxR6I+eLD8iwOgGq2dgzP/5z3+y+v/ACCHo5cuXZ7Wqea9/SJitd2zLh8YIlhXaGBfaw4VqHqkb8Tq7IPW8EBACXYdAPUSgrC6IjcYaaSned7svLXY4o5X/SEmBXoCMhJyF8wnys8jrbA96Qhsp9fChZ3ClpKVa73so7RXjPHbsWFbe08pdHoQFgzN2fgEPwORZMMQeOgIGtF9G2p8bjr0Io5AhHIrEWGcXnqF+px3Bdvy9CtRt+Dv00tGjR7MzfmLViNjvkLGPlCBfv6Jdu/7sPHDDNiJPRfrbEgHYGDy/CO3b+Qod4GnHHMOl6ySB3lRlBJKIAPYI4EPCCbY8vAqgYeHzNFsfRHy8b7/9dnYYDAx4Gy2wZUjpfb59+3bGvpHH6JeAQxThk08+yeruwrhHPv2PP/6YnVyI/L28+/mB8f2x6jgQfDzcxo6FEY288fhjp4fE/p4nWEMeHAgRKDUY4Rgz807hSQIOjHjE3gUcbTk+Km/8157wzN+Jj1WY+BsEGIQhlKkuISAE2guBskSgHl3gI5ZXAjMmJ/OesWkdvuFJ+ebLvNhGzZA8RRtFqUvQaSgZWrQxNtZ+aFXZiERRRTz/eXqnQ7gVbVIFaQiVbrXvyKsyZ43nvPGG5hq6/ptvvumgu4ADHF+LFy+upTqxL7F1YecLenTGjBm1VKe8vqNPId0Zmv/YnMTaoD4N7QVkSXbck0rC2ksSaTTdiUAhEejOzundQkAICAEh0DwEyhCB5vVCLQsBISAEhEB3ISAi0F3I671CQAgIgW5GQESgmydArxcCQkAIdDMCIgLdPAF6vRAQAkKguxAQEegu5PVeISAEhEBrICAi0BrzoF4IASEgBLocARGBLodcLxQCQkAItBQCIgItNR3qjBAQAkKg6xAQEeg6rPUmISAEhEArIiAi0Iqzoj4JASEgBLoAARGBLgDlxcQAAB3nSURBVABZrxACQkAItDACIgItPDnqmhAQAkKgmQiICDQTXbUtBISAEGh9BEQEWn+O1EMhIASEQFMQEBFoCqxqVAgIASHQYxAQEegxU6WOCgEhIAQai4CIQGPxVGtCQAgIgZ6GgIhAT5sx9VcICAEh0CAERAQaBKSaEQJCQAj0UAREBHroxKnbQkAICIHOIiAi0FkE9bwQEAJCoGcjICLQs+dPvRcCQkAI1I2AiEDd0OlBISAEhEBbICAi0BbTqEEIASEgBMojICJQHjM9IQSEgBBoJwREBNppNjUWISAEhEAJBEQESoClW4WAEBACbYjAM3+O6Y82HJeGJASEgBAQAkJACAgBISAEhEAOAooIaHkIASEgBCqKgCICFZ14DVsICAEh8D8ERAS0FISAEBACFUVARKCiE69hCwEhIAR6MhG4f/++O3bsmNu3b587ePCgGzVqVKUn9NatW27v3r3uyJEj7pdffqlh8fPPP7tz5865rVu3uilTprglS5a0LU6nTp1yn3/+ufv111/d6dOn23acGpgQaCQCIgKNRFNtCQEhIAR6HgLJEQEYWtu3b3dnzpzJRjl8+HC3aNEiN3bsWLdt2za3fv36Lhk9jNsDBw5kJODevXvu4sWLLUcEoFzzrjfeeMP94x//cJMnT3b9+vXrFG4gAUePHnUbNmzI2vnjj//b8gFysH//fnf9+nW3efPmXCIwfvz42tyiHfQxZlBv2bLFLV26tEO/8+7v1AATHiYJ+Oqrr3L7ndCUbhEClUKgHiKA75/yt0+fPm7ZsmWFTgY4bz799NPMUQGHRdF16dIlt2PHDvfSSy/lto1v/+OPP85knNVL06ZNi74itS/QNatXr876+/jxYzdo0CD3/vvvB/vj6yXggj6sXbs2KuMhuzdu3Oggt4jjrFmzovfjHUOGDMn6Yq+QbPf7Pm/ePLd48WI3cODAp3AhHinj5MNl+lI01/q7EBAC3YtAEhGAgJg+fXpmTFJQWSEWMwLnz5/vdu3a1ZQR0hjtSiJQZjxQZKNHj87GbvsIxbVw4cKMxIBMwdjuLBnAO0g+LBHA78SpiAjgXswpDHySPSiP2PxBESxYsCBTwGfPng0qmKZMfKRR9Kd///4iAl0Jut7V4xEoSwQgA2E4vv766+6nn36qGckrVqwIOoNs9BYyr8hhALn573//2+3evTszePPkFmTbpk2bMhlFwx/Oj7lz5wafK9MXGrrjxo3LnCwwoNl2SC6+8sormSzE+PCsJSYhGQ9ZO2bMmBpZ+O2339zUqVOz9XTt2rXgugo5YHAjcLUGPt4Pxw4ukIzevXvXCA36Ze8FJtBDuF599VV39+7drD1cefI/tS89/gPRAIRABRAoJAIQFPCExIQCFYPvPYagGzZsWAcPdSPx7GoiUM94aJz7ZIWYAo8UAz0FN3r0fSJAQlLmPVRqeO/hw4drStbvBwgiUrNaJRUHeBcZGilY6h4hUBUEyhAByJKHDx92kAeUi8DLlz0WQ96X+n3mGfRol8Q/RECgk0AkYv1J6Qvk6dWrVzukWuK91DtWLkIOXrhwoYP3n4Y+yIyvO9H3ESNGZPDA8OZVJKsHDx7srly5Uug4AikCAbAEgcQGxr6V18Bq6NChbs6cObV+0PGXJ/9T+1KV70jjFAI9GYFCIlAknOgZtuFeGLrwbsD7kKccOgNcVxKBescTIwIYNw33VMVYhFUjiQDasl6tmzdvZsrCv7A21q1bJyJQNDn6uxBoUQTKEAHIwVBqSUz2+EMuQ9SL9A7/HiIC1A15uievL3TUhGQz/wbnGI34WKSYBrXfTh7JgYGN9Kk7d+50MPjR1oMHDwpTsPJIDgmSdUzF+s57Qw6k1L606JJXt4SAEPAQKCQCFCzIYTx//nzQIITg5UZUpL688847wTxGm1duBYzNqQ8JHj+HEYL1ueeey7weodQgmzcaytX0Nxv36tWrlqsJAX/8+PHaOGPjSUlJyiMCNpQc86hD4GKjL8PMIFfLly8PzkGjicCqVavcl19+mXnWgKEfUsY68omAv8+AitgPI1sF7W/ytalTmOdDhw5lCtHOqT9HXNNU7ngG+1aYXgCPXChX18+jRYh8zZo1bsKECbXPxN+IvXLlyixVAHORkussiSMEWhmBMkQgNg4Yr/hfUWSwkUQAfenbt2/WJV8vQbbif3lpqXl9IcmIOWko1/2UHB+fWLoiZX9Ih1CG+pFY4MvUqrz9ZZRPIT1KOZyX8sMxQN5OnDgxGLFO7Usrr3v1TQgIgf9DoJAI4FZr4Nl9AnlAhnLWGT2AAe8LKoYz/d+Zw8hcTeY7wsjD5QtTCELkrOMd8F5R+MHIQ+4lN3UhtxRh2z179mQbalFVBzmvNHxt9R28J5aDn4KB30e7fyCWegOPDPr72WefZZuh8cykSZOy1504ceKpDdLNIAIvvPBCNvcgAaH9DKGIgB2bNfhDKQT+Jt+XX345y2cdOXJktlEQcwiD+6233spC7zNmzHCXL1/O9jFYj5xPBEAS8XdcDJH7/ee6wmY9hMXRv9mzZ2djPXnyZEYG/I3YWCv4jQTAXyMSLEKgpyHQWSKAbwGyKuQo8LFoNBGgZx2OCu4TQF/wXe7cuTM3hSaFCFBnhMYR0j0xIuBHLahLQpHW0J4um6rDd2DMX3zxRQenhdXVkFU23Qd/KyI4tv8kApSF/FuZvvS0b0H9FQJVRSCJCMB4njlzZm0TqRW8MeDKbl6NhYJhiCIE6+dGhrwqbMP31PBea3TTcPa9IzFvTSOIAIxIbMQlCYltsKOwjREI4O+HjptBBEBAmM8KTH0veCw1KIZVqI821O7PcSyiwnZ8RYr7/WiB7b9VjmgDRNF6Dan8fJLBfvB59BlXKE2iqoJE4+6ZCNRLBBilheMkZHSG0Gg0EcA7bLQR3+1HH330lAFcti92D1fIWM+L9Np3UY5bfWTbDqUucTyhaATk7X//+1/3ySef1Db0xiIHoWhDzEkTwgeECg41u4fB3pfSl575RajXQqB6CCQRAesNgIBg+TIIXuSIh0q1NYII5OWJhvYIxDYu815ryNKY9AVmbO9BZ4iAv6xAPuCtCeXd416GXkOKgkTFV77NIgLoj934ZslLI4gA2o8ZCLExxeYu1o6fq0tlHFKWIW9dPXNfPVGiEfdEBOohAtag5JhT0k2aQQTwfkaT8f/hxWc0OG8+ivrCFBu0x6gsHTlMcS1KDYKcQnUle35LkTGeRwQ4HqY0MnptnUJ5JKXo3bZ9lCkNRZ59TPP60hO/B/VZCFQRgVJEAAD5qTX4LaQEGkEEKIz98CTeGTLY/Rx1f0Ktl6UriQANTr4zL7+cRmosLB0iNRhnM4kA2qe3HP+fXqieQgSYq4u+g1yFDBl/rViSICJQRdFYjTHXQwSIDPfPME2zqDJZkfFtES/aLMx74fwZMGBAdiYLC1Tk7Wfjcyl9QeoRve88QwDPx1ITbf/hfPj222+f2kdUVGUpJt9Dq5EEyEYFsG8Cjrq8iADwyUtrDFUSKvoaQn0pekZ/FwJCoDUQKE0E2G2b72+NQytoaXjZocbq2ocEf8xYR3shIpAi3NmX7iACzEvPq49NHGLCOuYxajYRAG42PxQh8ydPngSrBpVJDUK7zY4I8B1cj2UrTokItIawUi8aj0BniAB7w1z9ogpoZeRzChHwI8DWOx3aQ2TRK9MX+xyjtXmkh+exsNCBP2uUJ48ePXpqH0NetR6/HTqNbF+oB0LOs1gVI5/AYD9W2fN/Qn1p/GpVi0JACDQDgUIiEKodbTtCweUrgUZEBCjUQjmoIWMOaTMwsmN5jbbf3UEE8H7rWQ95bVI9Rv7+gq4gAug/55ub1XDatF8tpFWJAKMsnIO8MxJ8oyFEapvxQapNIdCVCDSCCKC/8ET7NepDBnARWeAzRUSAcjKkG+idDhnDbL8eIkBDOrRHi+3SQZa3WTmlalBe333ZZOVYStWg2N40RnjKkgCLaapM7co1rncJASGQj0ASEUAZyZhwiFUiaAQRyCvVGCICRQrAljntLiKA6eC4YmU56XXKS4ny/9ZVRAD957vQ/5DybzUiQKOBnjP+O5Z+hTWNC5ulcSkiIDHargg0igiENt83kwhQ74QMzyISwW86lZTgfrtPKlY6mhGJUKliiwUjKCESw5KofjGI0PqjF95GFijbQumn1I8xB9TRo0eDp0OnrP1QX1Ke0z1CQAh0PwJJRGD06NEudqgUvSR+qJS5itzwysNoKAStV8JWJbLtWO94qEwo6rlbRWDTavzSajC+X3zxxdrG5rJEIDaevCnM27hFr1CoLGfehjH0G3j5x9CzPX+DcV496Fjf8Q6cI0BD2L+PR9ijZGBImRIrq6BYZhARG7+PzU4NQhQD77fK1e7XsN47hvVtlENEoPsFlXrQHAQaQQRoBMZ0BHtexgtfZMznnXhPmZfXnzJ9sSQg5vHOIwE8t4abhnnKL9KXrByPjRm//+Uvf3mqShn3R9jNyNZRY+Vv7GRhkpwYCfAzAsr2pTmrVq0KASHQSASSiQBeCiMdm7JQNhGC5dy5c1mqCAQaDCcc/MTLpvWgNjwueCRs+TRsMoZX+caNG27hwoXZASb497Jly9ysWbOy9qz3HL+jxjxqybMEJwxp1H9nzWSmruB96Be860gVwn2s/x4rKWmFqL8BOjae2GTYDamhUKxVLqy+NHbs2BqGtrwpPUwgUThQzD9AxxImP1JAL5A9nCtvAfne89i93O8QighwDrjB7vvvv3fvvfeeO3jwYFY+Fd6qd999N6uBbWuB21rkMQ+cnbsY+QTeWD88RwJrJYTZmDFjahWwgA8u9M8aEBZbhb0bKXrUVisgUIYIQJagpCRkI78vyLkPP/zQLVq0KFg9jmO0aTUpZw7YlNNYrr1Ng6G+YH/yDhRL7QvPEcFmaDg37EGTdu54Bgl+szqQ90Cm+HLZd9Cg35CR0H+WHFh9Cbn25ptvut9//90hJRPnrqxfv/6pZWTP3oGT47fffsv09NWrV58674EHZkKO+xdPlyehqKcvrbDG1QchIATyEUgiAg8fPsxSQGD44/AtnnQL4xoHcfkeCbwSwvHtt9/OqhPAgLf3WO8wjEIIq9u3b2eCEOVIrUGMtvzqDRCCP/74o/v6668zBZR3P4kF3x+rGIOIAyIf/kXvdd54/GfoQfZ/9w3X0OEs1luOyMC+ffuymtE8IXnx4sUdPEP+qb14J730oX7knYhc9v6Q9xzvtxEeW2KW6QMsnRqq8gSMcNlTqDkmRCn8ObIRCSiqAwcO1A4Ri2HGecH9UK4oN8h34P0s65qHrQSLEGgHBMoQAcgrfIOQR7jwbeOgR18mpcjDWFpOTD7HNuf6p69DJ+WRkpCMC/WF9+Fv0EuhEtkYpy0AEVsPsY3LJC3Qp3SahHQp5BAdX5RpOFwxFrFlvyjb+IyfsmT3q8X67jvE6ulLO3wnGoMQaGcEColAOw9eYxMCQkAIVBmBMkSgyjhp7EJACAiBdkVARKBdZ1bjEgJCQAgUICAioCUiBISAEKg2AiIC1Z5/jV4ICIEKIyAiUOHJ19CFgBAQAn8iICKgZSAEhIAQqCgCIgIVnXgNWwgIASHwPwREBLQUhIAQEAIVRUBEoKITr2ELASEgBEQEtAaEgBAQAtVGQESg2vOv0QsBISAEFBHQGhACQkAIVBQBEYGKTryGLQSEgBBQREBrQAgIASFQbQREBKo9/xq9EBACQkARAa0BISAEhEBFERARqOjEa9hCQAgIAUUEtAaEgBAQAtVGQESg2vOv0QsBISAEFBHQGhACQkAIVBQBEYGKTryGLQSEgBBQREBrQAgIASFQbQREBKo9/xq9EBACQkARAa0BISAEhEBFERARqOjEa9hCQAgIAUUEtAaEgBAQAtVGQESg2vOv0QsBISAEnvkTgj8EgxAQAkJACAgBISAEhIAQEALVQkCpQdWab41WCAgBIVBDQBEBLQYhIASEQLUREBGo9vxr9EJACFQYARGBCk++hi4EhIAQ+BOBtiMCK1eudBs2bHAnT550EyZM0CR3AwI///yzO3funNu6daubMmWKW7JkSTf0Qq8UAkKgCAERAedOnTrlPv/8c/frr7+606dPF0GmvwsBISAE2gqBXCJw6dIld/nyZbdv3z537969bOD478CBAwtBOHLkiJs+fXqH+y5evOhGjRpV+GxnbqgKEQC+P/zwg9u9e7d7/PixGzRokLt7924SdPPnz8+es9cffzRuq8jevXvd/v373fXr193mzZtFBJJmRTcJga5HoCwRAMk/cOBATSf06dPHTZs2za1du9b169ev6wfQyTeSBHz11VfujTfeEBHoJJ56XAgIgZ6HQFJEAMJy4sSJ2ejmzZvndu3aVTjS8ePHuzNnzmT3yRgshKvuG0h80MDhw4czpZx3QZEPGTIkIw+4mkXOtmzZ4pYuXaq5r3tm9aAQaD4CZYnAK6+8khF8GM2QJfj/uIYPH54Z0T2RDMDhNXr0aBGB5i83vUEICIEWRCCJCEBQvvfee8lRAf/+RnqbWxDDbu0SDG5GbFKiAvb+ZnrAqFxFArt1eejlQiAXgTJEAFHICxcudPD+37p1y40ZMyZzLKQ6iVpxSoBDM+VhK45ZfRICQkAIAIFkIrBu3Tr33HPPOYRQiwQ+ogEgDkwNEhFo3mKDYY9r06ZNmTLOiwowGoCIDuammYpPRKB5c66WhUCjEChDBJBSGIoGMw20mfKkUeONtSMi0GyE1b4QEAKtikApIrBq1aoshIrr0aNHwTDw/fv33bhx47J8dQhXXCEigHSjjz/+uENoec2aNbUNvjQkLXBUNDbtyCofvPvYsWOZh/zgwYO1/Qj+7y+88IJbvXp1liePHFcoN6TUwFDG71BsMKpXrFjh1q9fn3XB74/1dHOcuM/+3oj3Fi0cEgHch1QchOivXbsWfIwevRkzZuSGwm3UAA1NnTrVLV++3A0dOrTWrt1gd+jQITdz5swsFWzPnj1uzpw5NbwsHkwXYiN27uBZnD17drYemHeMccTGUoSL/i4EhEAxAmWIQKw1yM3+/fsnORZChQQgF+jIsDLXj15CzvipR0V6BH2GbMG+Jci/X375xTGdEnINv+HyiUBI/1CPYQwLFizInGKUj/jvBx980PQ9cMUzqjuEgBAQAuUQKEUEkANKIzyW8gGv0YABA7INojEiwD0HbAMGMwxYGN92MzJ+h7CGcWjTXvA7/k2jE0PmJjYqFOa++7/jmfPnz7t3333X/f777w79xXtx/44dO9xbb73lnn322RpJsR52qwD88YNIQDHw90a+N29KSQRmzZpVy/2P5f0PHjw4I0i4YjmxVJJsg3Nl8fc32HHzOIgVlWssIoA+YK4tsWCkYuPGjRmJwPxiXkAsFE0q90HrbiFQBoFGEgFrxMf6YAsJ4H7Ie1/mQkY/ePDA9e7d240cOTKTy6FIdIoeAQk4evRoVkkOF9rGbyQAIAYhIoDfIIPgiLAOKvwOHQiZhw3SuLZt25a136z9VmXmU/cKASEgBMoiUJoI0MCD1/bOnTsdPDQ06Pl7jAiQTFgjjwaon9oCI3HEiBGZwuDfIKBfe+214MZYGuS+UGalHEseABa91DBgd+7cWRsPx2m9RvZ+nwjEDN9GvTc2sSQCIF4cSyhED8UHEgAyl7c5LhQi5wZBS9Ksx+zmzZtZtAAK9vnnn88wDOFhSaIdD++164HkgIq67MLW/UJACBQj0AgiwNSgshXlfNlKOQCnw9mzZztUp0M/oXOsPCijR6iLKP+hq3DRieHLPYzp22+/7aATiCbu9fUL+oKIebOr4hXPqO4QAkJACJRDoDQRQPPw6kLo+8awb+jFiACMfniPrVDPqzIDA3PYsGGZIsD+BHjwY5WL2I4vqGO/xwz4mLEc62esnUa9N4UIMFKCe/3xMxoARZVHBGD0QxHTY4a2qHBtm0WVNiweiFYgdQj7RkJVjfJIVEqFqnJLXncLASFgjdrORt0gH15//fXkMsF5+4diufohXVJGj+SlqQIL+17oMegapoX6qwX3+o4jyEs4QUQE9G0JASHQ0xCoiwjQA2Q9NPTg2ihBkfAFWDZ/EwZ+LOWIBrXvFfIBrzIRABaMQFhvGxTvhx9+WMu3LzLiialNAfLJRVEbNqKC1C70J6ZY0bYtSxgjDD3t41J/hUCrI9DZiAA959ZxUDTmRhEB+54iPVKki/B3pCwimgldlrc3idFrOEw++ugjN3ny5B5ZNrVonvR3ISAEqoFAXUQA0DAqwHQdGOA//fRTB099nvCFMkAlImwqxn9xOBbyLGNEwNa/99N77FRVnQjYqABD9aziRG98kREPpY4wN+Z44cKFbvv27Vm+fj0RAeQBI7/XpnaFPi1/TwWU7PHjxztsUK7GJ6lRCoGuQ6AzRADGNwoUhDbx5o2gkUQgVY+kEAGkVKZWxqOMhFyzBSe6bub0JiEgBIRAYxComwhg09fcuXOzNJIrV65kG1Xh+bWnDseELyMK1qAvOoCKaUfcDMy8dB+GqhMB4MF9EkijQoUgeNjtqcN5RAA4Y35OnDhRC3N3NjUICha1xnFho7atPuTPHwgBN99BwRbd35jPQK0IgWoiUC8RYOEEu68qFcFGEYEyeiSVCIDUQN5Bl6Uc0Ag9iMIHRaWbU7HRfUJACAiBrkagbiJgPfQw9EAA/HzukPBlqTm/zGUeEYCwRRUJpJZQ+MdOshQR6FjqFHPjp9rEiACrcPjVPzpLBLCRmfNG4mjLAKI/vXr16kAQeH9KJZKu/mj0PiHQLgjUQwRYZhlVc+o5SbgRRKCsHkklAiimYA9JCzmcoI9Q3YwX74dsU7njdvkyNA4hUB0E6iYCgMjWhfcFJgU17rOb0agEfCLAvEtbfpPVZ5A6BAHNi3nwoYPN/PKXfKZRm3YZCbEGKsbKOvp+alOj3htbkrZqkL2HxntoTwUNfr+6EPvqG9/M30dqEM5gsFWBYocI+aX90DfOjU/isCZQItDPM4byFhGojjDSSLsegbJEII8E8NwUEP+8qxFEoKweySMCoXMQKL9CUUmkTCIKbkkQ5G3R3oKun129UQgIASFQjEASEaABFzL2kRL06quvdjDUfZLg5/T37ds3C6XCaEad6H//+99ZuTiEY2EkwrOCkPPt27fdpEmTagd+cTgU0vi3f5YAS436hnrodzxvN9faMLdNfbKl7GwOPogIFMWNGzeyXPqJEydm/162bJlDpRxcjXpvaCpJQJD24yummLL1D8Oxc2qrMyG6g/MUvvvuu2xukAuLDb+YO/yN+MTSd5ie5BMFKmT8ztxi9hVz9q9//StTsCQlsRSw4qWtO4SAEChCoAwR4KF/aDMUCcA+opMnT9YOhYy928oGu7/ARg2tzKVcQnt2n1KqHnn48GFWdQ5XKN3HyjJb7ILOFH+/EisMQQ4iEk75lbd3rWge9HchIASEQHchkEsE/JNg2Unr4YchjTx0lk2jUAwNiEIc9yBdBcYlDEKmFJEE7N+/3z158qR2irFVAKH20YY99Zjvjv2Ov2MMNEptX9FHRCCg1PzfOUYoLB5ExjJyIC0YE54dO3ZsRmJ4CrNtpzPvte3Y05XteG3kBJ58/JtKOzafxAP/tTmvNMxBMkByOFZGP2x/Yict8x7gevny5Wxzof8cyCA3jmNN4OLcqRxfd4kGvbcKCKQSAXvoYwwXe+hg7J4yMhcyBVdIZiDqkKJHIMf9561zIiRH6aDy5Tefg1zFBccVLowb8itUGrkKa0hjFAJCoGcjkBQR6NlDVO+FgBAQAkIghEAqERB6QkAICAEh0J4IiAi057xqVEJACAiBQgREBAoh0g1CQAgIgbZGQESgradXgxMCQkAIxBEQEdDqEAJCQAhUGwERgWrPv0YvBIRAhREQEajw5GvoQkAICIE/ERAR0DIQAkJACFQUARGBik68hi0EhIAQ+B8CIgJaCkJACAiBiiIgIlDRidewhYAQEAIiAloDQkAICIFqIyAiUO351+iFgBAQAooIaA0IASEgBCqKgIhARSdewxYCQkAIKCKgNSAEhIAQqDYCIgLVnn+NXggIASGgiIDWgBAQAkKgogiICFR04jVsISAEhIAiAloDQkAICIFqIyAiUO351+iFgBAQAooIaA0IASEgBCqKgIhARSdewxYCQkAIKCKgNSAEhIAQqDYCIgLVnn+NXggIASHw/wAf9OLJ8XF82QAAAABJRU5ErkJggg==)"
      ],
      "metadata": {
        "id": "LdXBpO5VPioj"
      }
    },
    {
      "cell_type": "markdown",
      "source": [
        "## 1. Split this string"
      ],
      "metadata": {
        "id": "CU48hgo4Owz5"
      }
    },
    {
      "cell_type": "code",
      "source": [
        "s = \"Hi there Sam!\""
      ],
      "metadata": {
        "id": "s07c7JK7Oqt-"
      },
      "execution_count": null,
      "outputs": []
    },
    {
      "cell_type": "code",
      "source": [
        "s = \"Hi there Sam!\"\n",
        "x = s.split()\n",
        "print(x)"
      ],
      "metadata": {
        "id": "6mGVa3SQYLkb",
        "colab": {
          "base_uri": "https://localhost:8080/"
        },
        "outputId": "f10389d7-29ab-4be0-ddf0-43df695bd451"
      },
      "execution_count": null,
      "outputs": [
        {
          "output_type": "stream",
          "name": "stdout",
          "text": [
            "['Hi', 'there', 'Sam!']\n"
          ]
        }
      ]
    },
    {
      "cell_type": "markdown",
      "source": [
        "## 2. Use .format() to print the following string. \n",
        "\n",
        "### Output should be: The diameter of Earth is 12742 kilometers."
      ],
      "metadata": {
        "id": "GH1QBn8HP375"
      }
    },
    {
      "cell_type": "code",
      "source": [
        "planet = \"Earth\"\n",
        "diameter = 12742"
      ],
      "metadata": {
        "id": "_ZHoml3kPqic"
      },
      "execution_count": null,
      "outputs": []
    },
    {
      "cell_type": "code",
      "source": [
        "planet = \"Earth\"\n",
        "diameter = 12742\n",
        "print( 'The diameter of {} is {} kilometers.' .format(planet,diameter));"
      ],
      "metadata": {
        "id": "HyRyJv6CYPb4",
        "colab": {
          "base_uri": "https://localhost:8080/"
        },
        "outputId": "d33c3841-5e4a-4616-a68f-3c4709f54568"
      },
      "execution_count": null,
      "outputs": [
        {
          "output_type": "stream",
          "name": "stdout",
          "text": [
            "The diameter of Earth is 12742 kilometers.\n"
          ]
        }
      ]
    },
    {
      "cell_type": "markdown",
      "source": [
        "## 3. In this nest dictionary grab the word \"hello\""
      ],
      "metadata": {
        "id": "KE74ZEwkRExZ"
      }
    },
    {
      "cell_type": "code",
      "source": [
        "d = {'k1':[1,2,3,{'tricky':['oh','man','inception',{'target':[1,2,3,'hello']}]}]}"
      ],
      "metadata": {
        "id": "fcVwbCc1QrQI"
      },
      "execution_count": null,
      "outputs": []
    },
    {
      "cell_type": "code",
      "source": [
        "lst = [1,2,[3,4],[5,[100,200,['hello']],23,11],1,7]\n",
        "a=lst[3][1][2];\n",
        "print(a)"
      ],
      "metadata": {
        "id": "MvbkMZpXYRaw",
        "colab": {
          "base_uri": "https://localhost:8080/"
        },
        "outputId": "6a932aa4-4a4e-4e36-e973-e87f2cebc05d"
      },
      "execution_count": null,
      "outputs": [
        {
          "output_type": "stream",
          "name": "stdout",
          "text": [
            "['hello']\n"
          ]
        }
      ]
    },
    {
      "cell_type": "markdown",
      "source": [
        "# Numpy"
      ],
      "metadata": {
        "id": "bw0vVp-9ddjv"
      }
    },
    {
      "cell_type": "code",
      "source": [
        "import numpy as np"
      ],
      "metadata": {
        "id": "LLiE_TYrhA1O"
      },
      "execution_count": null,
      "outputs": []
    },
    {
      "cell_type": "markdown",
      "source": [
        "## 4.1 Create an array of 10 zeros? \n",
        "## 4.2 Create an array of 10 fives?"
      ],
      "metadata": {
        "id": "wOg8hinbgx30"
      }
    },
    {
      "cell_type": "code",
      "source": [
        "import numpy as np\n",
        "array=np.zeros(10)\n",
        "print(\"An array of 10 zeros:\")\n",
        "print(array)\n"
      ],
      "metadata": {
        "id": "NHrirmgCYXvU",
        "colab": {
          "base_uri": "https://localhost:8080/"
        },
        "outputId": "0d8cd12e-ed57-48e9-9992-43bfc81d5c42"
      },
      "execution_count": null,
      "outputs": [
        {
          "output_type": "stream",
          "name": "stdout",
          "text": [
            "An array of 10 zeros:\n",
            "[0. 0. 0. 0. 0. 0. 0. 0. 0. 0.]\n"
          ]
        }
      ]
    },
    {
      "cell_type": "code",
      "source": [
        "import numpy as np\n",
        "array=np.ones(10)*5\n",
        "print(\"An array of 10 fives:\")\n",
        "print(array)"
      ],
      "metadata": {
        "id": "e4005lsTYXxx",
        "colab": {
          "base_uri": "https://localhost:8080/"
        },
        "outputId": "9f3c36b9-6996-4796-eb9e-87d5fd906a1a"
      },
      "execution_count": null,
      "outputs": [
        {
          "output_type": "stream",
          "name": "stdout",
          "text": [
            "An array of 10 fives:\n",
            "[5. 5. 5. 5. 5. 5. 5. 5. 5. 5.]\n"
          ]
        }
      ]
    },
    {
      "cell_type": "markdown",
      "source": [
        "## 5. Create an array of all the even integers from 20 to 35"
      ],
      "metadata": {
        "id": "gZHHDUBvrMX4"
      }
    },
    {
      "cell_type": "code",
      "source": [
        "import numpy as np\n",
        "array=np.arange(20,36,2)\n",
        "print(\"Array of all the even integers from 20 to 30\")\n",
        "print(array) "
      ],
      "metadata": {
        "id": "oAI2tbU2Yag-",
        "colab": {
          "base_uri": "https://localhost:8080/"
        },
        "outputId": "b8d12063-e658-4de0-99ed-256f9dfcb24e"
      },
      "execution_count": null,
      "outputs": [
        {
          "output_type": "stream",
          "name": "stdout",
          "text": [
            "Array of all the even integers from 20 to 30\n",
            "[20 22 24 26 28 30 32 34]\n"
          ]
        }
      ]
    },
    {
      "cell_type": "markdown",
      "source": [
        "## 6. Create a 3x3 matrix with values ranging from 0 to 8"
      ],
      "metadata": {
        "id": "NaOM308NsRpZ"
      }
    },
    {
      "cell_type": "code",
      "source": [
        "import numpy as np\n",
        "x =  np.arange(0, 9).reshape(3,3)\n",
        "print(x)"
      ],
      "metadata": {
        "id": "tOlEVH7BYceE",
        "colab": {
          "base_uri": "https://localhost:8080/"
        },
        "outputId": "493196dc-9096-4c66-8c59-6007274f93e6"
      },
      "execution_count": null,
      "outputs": [
        {
          "output_type": "stream",
          "name": "stdout",
          "text": [
            "[[0 1 2]\n",
            " [3 4 5]\n",
            " [6 7 8]]\n"
          ]
        }
      ]
    },
    {
      "cell_type": "markdown",
      "source": [
        "## 7. Concatenate a and b \n",
        "## a = np.array([1, 2, 3]), b = np.array([4, 5, 6])"
      ],
      "metadata": {
        "id": "hQ0dnhAQuU_p"
      }
    },
    {
      "cell_type": "code",
      "source": [
        "import numpy as np\n",
        "\n",
        "a = np.array([1, 2, 3])\n",
        "\n",
        "b = np.array([4, 5, 6])\n",
        "\n",
        "arr = np.concatenate((a, b))\n",
        "\n",
        "print(arr)\n"
      ],
      "metadata": {
        "id": "rAPSw97aYfE0",
        "colab": {
          "base_uri": "https://localhost:8080/"
        },
        "outputId": "06ddf60f-b918-45b8-a88e-b6a94e16c150"
      },
      "execution_count": null,
      "outputs": [
        {
          "output_type": "stream",
          "name": "stdout",
          "text": [
            "[1 2 3 4 5 6]\n"
          ]
        }
      ]
    },
    {
      "cell_type": "markdown",
      "source": [
        "# Pandas"
      ],
      "metadata": {
        "id": "dlPEY9DRwZga"
      }
    },
    {
      "cell_type": "markdown",
      "source": [
        "## 8. Create a dataframe with 3 rows and 2 columns"
      ],
      "metadata": {
        "id": "ijoYW51zwr87"
      }
    },
    {
      "cell_type": "code",
      "source": [
        "\n",
        "import pandas as pd\n",
        "  \n",
        "\n",
        "data = {'Name': ['Tom', 'Jack', 'nick'],'Id': [1, 2, 3],\n",
        "        'marks': [99, 98, 95]}\n",
        "  \n",
        "\n",
        "df = pd.DataFrame(data, index=['rank1',\n",
        "                               'rank2',\n",
        "                               'rank3'])\n",
        "  \n",
        "\n",
        "df"
      ],
      "metadata": {
        "id": "T5OxJRZ8uvR7",
        "colab": {
          "base_uri": "https://localhost:8080/",
          "height": 143
        },
        "outputId": "2d4cd965-b464-4b38-9231-05fdf987919a"
      },
      "execution_count": null,
      "outputs": [
        {
          "output_type": "execute_result",
          "data": {
            "text/plain": [
              "       Name  Id  marks\n",
              "rank1   Tom   1     99\n",
              "rank2  Jack   2     98\n",
              "rank3  nick   3     95"
            ],
            "text/html": [
              "\n",
              "  <div id=\"df-ec5bb5cd-5a2f-4bfd-991b-e2f6543fb8a1\">\n",
              "    <div class=\"colab-df-container\">\n",
              "      <div>\n",
              "<style scoped>\n",
              "    .dataframe tbody tr th:only-of-type {\n",
              "        vertical-align: middle;\n",
              "    }\n",
              "\n",
              "    .dataframe tbody tr th {\n",
              "        vertical-align: top;\n",
              "    }\n",
              "\n",
              "    .dataframe thead th {\n",
              "        text-align: right;\n",
              "    }\n",
              "</style>\n",
              "<table border=\"1\" class=\"dataframe\">\n",
              "  <thead>\n",
              "    <tr style=\"text-align: right;\">\n",
              "      <th></th>\n",
              "      <th>Name</th>\n",
              "      <th>Id</th>\n",
              "      <th>marks</th>\n",
              "    </tr>\n",
              "  </thead>\n",
              "  <tbody>\n",
              "    <tr>\n",
              "      <th>rank1</th>\n",
              "      <td>Tom</td>\n",
              "      <td>1</td>\n",
              "      <td>99</td>\n",
              "    </tr>\n",
              "    <tr>\n",
              "      <th>rank2</th>\n",
              "      <td>Jack</td>\n",
              "      <td>2</td>\n",
              "      <td>98</td>\n",
              "    </tr>\n",
              "    <tr>\n",
              "      <th>rank3</th>\n",
              "      <td>nick</td>\n",
              "      <td>3</td>\n",
              "      <td>95</td>\n",
              "    </tr>\n",
              "  </tbody>\n",
              "</table>\n",
              "</div>\n",
              "      <button class=\"colab-df-convert\" onclick=\"convertToInteractive('df-ec5bb5cd-5a2f-4bfd-991b-e2f6543fb8a1')\"\n",
              "              title=\"Convert this dataframe to an interactive table.\"\n",
              "              style=\"display:none;\">\n",
              "        \n",
              "  <svg xmlns=\"http://www.w3.org/2000/svg\" height=\"24px\"viewBox=\"0 0 24 24\"\n",
              "       width=\"24px\">\n",
              "    <path d=\"M0 0h24v24H0V0z\" fill=\"none\"/>\n",
              "    <path d=\"M18.56 5.44l.94 2.06.94-2.06 2.06-.94-2.06-.94-.94-2.06-.94 2.06-2.06.94zm-11 1L8.5 8.5l.94-2.06 2.06-.94-2.06-.94L8.5 2.5l-.94 2.06-2.06.94zm10 10l.94 2.06.94-2.06 2.06-.94-2.06-.94-.94-2.06-.94 2.06-2.06.94z\"/><path d=\"M17.41 7.96l-1.37-1.37c-.4-.4-.92-.59-1.43-.59-.52 0-1.04.2-1.43.59L10.3 9.45l-7.72 7.72c-.78.78-.78 2.05 0 2.83L4 21.41c.39.39.9.59 1.41.59.51 0 1.02-.2 1.41-.59l7.78-7.78 2.81-2.81c.8-.78.8-2.07 0-2.86zM5.41 20L4 18.59l7.72-7.72 1.47 1.35L5.41 20z\"/>\n",
              "  </svg>\n",
              "      </button>\n",
              "      \n",
              "  <style>\n",
              "    .colab-df-container {\n",
              "      display:flex;\n",
              "      flex-wrap:wrap;\n",
              "      gap: 12px;\n",
              "    }\n",
              "\n",
              "    .colab-df-convert {\n",
              "      background-color: #E8F0FE;\n",
              "      border: none;\n",
              "      border-radius: 50%;\n",
              "      cursor: pointer;\n",
              "      display: none;\n",
              "      fill: #1967D2;\n",
              "      height: 32px;\n",
              "      padding: 0 0 0 0;\n",
              "      width: 32px;\n",
              "    }\n",
              "\n",
              "    .colab-df-convert:hover {\n",
              "      background-color: #E2EBFA;\n",
              "      box-shadow: 0px 1px 2px rgba(60, 64, 67, 0.3), 0px 1px 3px 1px rgba(60, 64, 67, 0.15);\n",
              "      fill: #174EA6;\n",
              "    }\n",
              "\n",
              "    [theme=dark] .colab-df-convert {\n",
              "      background-color: #3B4455;\n",
              "      fill: #D2E3FC;\n",
              "    }\n",
              "\n",
              "    [theme=dark] .colab-df-convert:hover {\n",
              "      background-color: #434B5C;\n",
              "      box-shadow: 0px 1px 3px 1px rgba(0, 0, 0, 0.15);\n",
              "      filter: drop-shadow(0px 1px 2px rgba(0, 0, 0, 0.3));\n",
              "      fill: #FFFFFF;\n",
              "    }\n",
              "  </style>\n",
              "\n",
              "      <script>\n",
              "        const buttonEl =\n",
              "          document.querySelector('#df-ec5bb5cd-5a2f-4bfd-991b-e2f6543fb8a1 button.colab-df-convert');\n",
              "        buttonEl.style.display =\n",
              "          google.colab.kernel.accessAllowed ? 'block' : 'none';\n",
              "\n",
              "        async function convertToInteractive(key) {\n",
              "          const element = document.querySelector('#df-ec5bb5cd-5a2f-4bfd-991b-e2f6543fb8a1');\n",
              "          const dataTable =\n",
              "            await google.colab.kernel.invokeFunction('convertToInteractive',\n",
              "                                                     [key], {});\n",
              "          if (!dataTable) return;\n",
              "\n",
              "          const docLinkHtml = 'Like what you see? Visit the ' +\n",
              "            '<a target=\"_blank\" href=https://colab.research.google.com/notebooks/data_table.ipynb>data table notebook</a>'\n",
              "            + ' to learn more about interactive tables.';\n",
              "          element.innerHTML = '';\n",
              "          dataTable['output_type'] = 'display_data';\n",
              "          await google.colab.output.renderOutput(dataTable, element);\n",
              "          const docLink = document.createElement('div');\n",
              "          docLink.innerHTML = docLinkHtml;\n",
              "          element.appendChild(docLink);\n",
              "        }\n",
              "      </script>\n",
              "    </div>\n",
              "  </div>\n",
              "  "
            ]
          },
          "metadata": {},
          "execution_count": 25
        }
      ]
    },
    {
      "cell_type": "code",
      "source": [],
      "metadata": {
        "id": "xNpI_XXoYhs0"
      },
      "execution_count": null,
      "outputs": []
    },
    {
      "cell_type": "markdown",
      "source": [
        "## 9. Generate the series of dates from 1st Jan, 2023 to 10th Feb, 2023"
      ],
      "metadata": {
        "id": "UXSmdNclyJQD"
      }
    },
    {
      "cell_type": "code",
      "source": [
        "import pandas as pd\n",
        "  \n",
        "per1 = pd.date_range(start ='1-1-2023', \n",
        "         end ='1-02-2023', freq ='5H')\n",
        "  \n",
        "for val in per1:\n",
        "    print(val)"
      ],
      "metadata": {
        "id": "dgyC0JhVYl4F",
        "colab": {
          "base_uri": "https://localhost:8080/"
        },
        "outputId": "8a609fdd-ec8e-4923-9392-2a4543d3a2da"
      },
      "execution_count": null,
      "outputs": [
        {
          "output_type": "stream",
          "name": "stdout",
          "text": [
            "2023-01-01 00:00:00\n",
            "2023-01-01 05:00:00\n",
            "2023-01-01 10:00:00\n",
            "2023-01-01 15:00:00\n",
            "2023-01-01 20:00:00\n"
          ]
        }
      ]
    },
    {
      "cell_type": "markdown",
      "source": [
        "## 10. Create 2D list to DataFrame\n",
        "\n",
        "lists = [[1, 'aaa', 22],\n",
        "         [2, 'bbb', 25],\n",
        "         [3, 'ccc', 24]]"
      ],
      "metadata": {
        "id": "ZizSetD-y5az"
      }
    },
    {
      "cell_type": "code",
      "source": [
        "import pandas as pd  \n",
        "      \n",
        "lst = [[1, 'aaa', 22], [2, 'bbb', 25], \n",
        "       [3, 'ccc', 24]]\n",
        "  \n",
        "df = pd.DataFrame(lst, columns =['Sl.no', 'Name', 'Age']) \n",
        "print(df )"
      ],
      "metadata": {
        "id": "_XMC8aEt0llB",
        "colab": {
          "base_uri": "https://localhost:8080/"
        },
        "outputId": "b0295e65-17db-47e0-eaf7-24864387aa0f"
      },
      "execution_count": null,
      "outputs": [
        {
          "output_type": "stream",
          "name": "stdout",
          "text": [
            "   Sl.no Name  Age\n",
            "0      1  aaa   22\n",
            "1      2  bbb   25\n",
            "2      3  ccc   24\n"
          ]
        }
      ]
    },
    {
      "cell_type": "code",
      "source": [],
      "metadata": {
        "id": "knH76sDKYsVX"
      },
      "execution_count": null,
      "outputs": []
    }
  ]
}